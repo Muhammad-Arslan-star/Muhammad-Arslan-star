{
  "nbformat": 4,
  "nbformat_minor": 0,
  "metadata": {
    "colab": {
      "provenance": []
    },
    "kernelspec": {
      "name": "python3",
      "display_name": "Python 3"
    },
    "language_info": {
      "name": "python"
    }
  },
  "cells": [
    {
      "cell_type": "markdown",
      "source": [
        "activity 1:"
      ],
      "metadata": {
        "id": "APZgsp86O7b5"
      }
    },
    {
      "cell_type": "markdown",
      "source": [
        "Name:     M.Arslan\n",
        "Reg No:   FA20-BSE-031"
      ],
      "metadata": {
        "id": "emXbb6m0eyVf"
      }
    },
    {
      "cell_type": "code",
      "execution_count": null,
      "metadata": {
        "id": "LSZ5yuDjHDsp"
      },
      "outputs": [],
      "source": [
        "class node:\n",
        "  def __init__(self,state,parent,actions,totalcost):\n",
        "    self.state = state\n",
        "    self.parent = parent\n",
        "    self.actions = actions\n",
        "    self.totalcost = totalcost\n",
        "    \n",
        "graph = {'A': node('A',None,['B','C','E'],None),\n",
        "           'B': node('B',None,['A','D','E'],None),\n",
        "           'C': node('C',None,['A','F','G'],None),\n",
        "           'D': node('D',None,['B','E'],None),\n",
        "           'E': node('E',None,['A','B','D'],None),\n",
        "           'F': node('F',None,['C'],None),\n",
        "           'G': node('G',None,['C'],None)\n",
        "          }\n"
      ]
    },
    {
      "cell_type": "markdown",
      "source": [
        "home activity:"
      ],
      "metadata": {
        "id": "FKU229EwPDcC"
      }
    },
    {
      "cell_type": "code",
      "source": [
        "from queue import PriorityQueue\n",
        "\n",
        "# Define the graph as a dictionary of dictionaries\n",
        "graph = {'Arad': {'Zerind': 75, 'Sibiu': 140, 'Timisoara': 118},\n",
        "         'Zerind': {'Arad': 75, 'Oradea': 71},\n",
        "         'Oradea': {'Zerind': 71, 'Sibiu': 151},\n",
        "         'Sibiu': {'Arad': 140, 'Oradea': 151, 'Fagaras': 99, 'Rimnicu Vilcea': 80},\n",
        "         'Timisoara': {'Arad': 118, 'Lugoj': 111},\n",
        "         'Lugoj': {'Timisoara': 111, 'Mehadia': 70},\n",
        "         'Mehadia': {'Lugoj': 70, 'Drobeta': 75},\n",
        "         'Drobeta': {'Mehadia': 75, 'Craiova': 120},\n",
        "         'Craiova': {'Drobeta': 120, 'Rimnicu Vilcea': 146, 'Pitesti': 138},\n",
        "         'Rimnicu Vilcea': {'Sibiu': 80, 'Craiova': 146, 'Pitesti': 97},\n",
        "         'Fagaras': {'Sibiu': 99, 'Bucharest': 211},\n",
        "         'Pitesti': {'Rimnicu Vilcea': 97, 'Craiova': 138, 'Bucharest': 101},\n",
        "         'Bucharest': {'Fagaras': 211, 'Pitesti': 101}}\n",
        "\n",
        "def uniform_cost_search(graph, start, goal):\n",
        "    frontier = PriorityQueue()\n",
        "    frontier.put((0, start))\n",
        "    explored = []\n",
        "    path = {}\n",
        "    path[start] = None\n",
        "\n",
        "    while not frontier.empty():\n",
        "        cost, current_node = frontier.get()\n",
        "        explored.append(current_node)\n",
        "\n",
        "        if current_node == goal:\n",
        "            final_path = []\n",
        "            while current_node in path:\n",
        "                final_path.append(current_node)\n",
        "                current_node = path[current_node]\n",
        "            final_path.reverse()\n",
        "            return final_path\n",
        "\n",
        "        for neighbor, neighbor_cost in graph[current_node].items():\n",
        "            if neighbor not in explored:\n",
        "                new_cost = cost + neighbor_cost\n",
        "                if neighbor not in [node[1] for node in frontier.queue]:\n",
        "                    frontier.put((new_cost, neighbor))\n",
        "                    path[neighbor] = current_node\n",
        "                elif new_cost < [node[0] for node in frontier.queue if node[1] == neighbor][0]:\n",
        "                    frontier.get([node for node in frontier.queue if node[1] == neighbor][0])\n",
        "                    frontier.put((new_cost, neighbor))\n",
        "                    path[neighbor] = current_node\n",
        "\n",
        "    return None\n",
        "\n",
        "# Test the uniform cost search algorithm\n",
        "start_node = 'Arad'\n",
        "goal_node = 'Bucharest'\n",
        "result_path = uniform_cost_search(graph, start_node, goal_node)\n",
        "\n",
        "if result_path:\n",
        "    print(\"The minimum distance path from\", start_node, \"to\", goal_node, \"is:\")\n",
        "    print(result_path)\n",
        "    print(\"The total distance is:\", sum(graph[result_path[i]][result_path[i+1]] for i in range(len(result_path)-1)))\n",
        "else:\n",
        "    print(\"Goal not reachable from the starting node\")"
      ],
      "metadata": {
        "colab": {
          "base_uri": "https://localhost:8080/"
        },
        "id": "7hQkZgmnN_Qs",
        "outputId": "0d0965ea-93e1-4c4e-acbf-55166846133f"
      },
      "execution_count": null,
      "outputs": [
        {
          "output_type": "stream",
          "name": "stdout",
          "text": [
            "The minimum distance path from Arad to Bucharest is:\n",
            "['Arad', 'Sibiu', 'Rimnicu Vilcea', 'Pitesti', 'Bucharest']\n",
            "The total distance is: 418\n"
          ]
        }
      ]
    },
    {
      "cell_type": "markdown",
      "source": [],
      "metadata": {
        "id": "pVAOyI0MKwjL"
      }
    },
    {
      "cell_type": "markdown",
      "source": [
        "activity 2:"
      ],
      "metadata": {
        "id": "PxW93HVqPWio"
      }
    },
    {
      "cell_type": "code",
      "source": [
        "class node:\n",
        "  def __init__(self,state,parent,actions,totalcost):\n",
        "    self.state = state\n",
        "    self.parent = parent\n",
        "    self.actions = actions\n",
        "    self.totalcost = totalcost\n",
        "\n",
        "def actionSequence(graph,initialstate,goalstate):\n",
        "  solution = [goalstate]\n",
        "  currentparent = graph[goalstate].parent\n",
        "  \n",
        "  while currentparent != None:\n",
        "    \n",
        "    solution.append(currentparent)\n",
        "    currentparent = graph[currentparent].parent\n",
        "\n",
        "  solution.reverse()\n",
        "  return solution\n",
        "\n",
        "def bfs(initialstate,goalstate):\n",
        "  \n",
        "  graph = {'A': node('A',None,['B','C','E'],None),\n",
        "           'B': node('B',None,['A','D','E'],None),\n",
        "           'C': node('C',None,['A','F','G'],None),\n",
        "           'D': node('D',None,['B','E'],None),\n",
        "           'E': node('E',None,['A','B','D'],None),\n",
        "           'F': node('F',None,['C'],None),\n",
        "           'G': node('G',None,['C'],None)\n",
        "          }\n",
        "  frontier = [initialstate]\n",
        "  explored = []\n",
        "  while frontier:\n",
        "    currentnode = frontier.pop(0)\n",
        "    explored.append(currentnode)\n",
        "    for child in graph[currentnode].actions:\n",
        "      if child not in frontier and child not in explored:\n",
        "        graph[child].parent = currentnode\n",
        "        if graph[child].state == goalstate:\n",
        "          return actionSequence(graph,initialstate,goalstate)\n",
        "        frontier.append(child)\n",
        "solution = bfs('D','C')\n",
        "print(solution)\n"
      ],
      "metadata": {
        "colab": {
          "base_uri": "https://localhost:8080/"
        },
        "id": "Uf6OPyMiPU5J",
        "outputId": "92cfe859-7272-4686-8ed2-52886476f893"
      },
      "execution_count": null,
      "outputs": [
        {
          "output_type": "stream",
          "name": "stdout",
          "text": [
            "['D', 'B', 'A', 'C']\n"
          ]
        }
      ]
    },
    {
      "cell_type": "markdown",
      "source": [
        "activity 3:"
      ],
      "metadata": {
        "id": "PRMV3cETPl4f"
      }
    },
    {
      "cell_type": "code",
      "source": [
        "class node:\n",
        "  def __init__(self,state,parent,actions,totalcost):\n",
        "    self.state = state\n",
        "    self.parent = parent\n",
        "    self.actions = actions\n",
        "    self.totalcost = totalcost\n",
        "\n",
        "def actionSequence(graph,initialstate,goalstate):\n",
        "  solution = [goalstate]\n",
        "  currentparent = graph[goalstate].parent\n",
        "  \n",
        "  while currentparent != None:\n",
        "    \n",
        "    solution.append(currentparent)\n",
        "    currentparent = graph[currentparent].parent\n",
        "\n",
        "  solution.reverse()\n",
        "  return solution\n",
        "\n",
        "def dfs(initialstate,goalstate):\n",
        "  \n",
        "  graph = {'A': node('A',None,['B','C','E'],None),\n",
        "           'B': node('B',None,['A','D','E'],None),\n",
        "           'C': node('C',None,['A','F','G'],None),\n",
        "           'D': node('D',None,['B','E'],None),\n",
        "           'E': node('E',None,['A','B','D'],None),\n",
        "           'F': node('F',None,['C'],None),\n",
        "           'G': node('G',None,['C'],None)\n",
        "          }\n",
        "  frontier = [initialstate]\n",
        "  explored = []\n",
        "  currentChildren = 0\n",
        "  while frontier:\n",
        "    currentnode = frontier.pop(len(frontier)-1)\n",
        "    explored.append(currentnode)\n",
        "    for child in graph[currentnode].actions:\n",
        "      if child not in frontier and child not in explored:\n",
        "        graph[child].parent = currentnode\n",
        "        if graph[child].state == goalstate:\n",
        "          # print(explored)\n",
        "          return actionSequence(graph,initialstate,goalstate)\n",
        "        currentChildren=currentChildren+1\n",
        "        frontier.append(child)\n",
        "  if currentChildren == 0 :\n",
        "    del explored[len(explored)-1]\n",
        "solution = dfs('A','D')\n",
        "print(solution)"
      ],
      "metadata": {
        "colab": {
          "base_uri": "https://localhost:8080/"
        },
        "id": "qGFJ7orLPk8Y",
        "outputId": "91182697-c763-4cfa-f78d-07d24e1fd27c"
      },
      "execution_count": null,
      "outputs": [
        {
          "output_type": "stream",
          "name": "stdout",
          "text": [
            "['A', 'E', 'D']\n"
          ]
        }
      ]
    },
    {
      "cell_type": "markdown",
      "source": [
        "activity 4:"
      ],
      "metadata": {
        "id": "mQs16MsKTiZm"
      }
    },
    {
      "cell_type": "code",
      "source": [
        "import heapq\n",
        "\n",
        "tree = {\n",
        "    'C': [('A', 3), ('D', 2)],\n",
        "    'A': [('B', 5)],\n",
        "    'B': [],\n",
        "    'D': [('E', 4), ('F', 6)],\n",
        "    'E': [],\n",
        "    'F': [('G', 1)],\n",
        "    'G': []\n",
        "}\n",
        "\n",
        "def uniform_cost(start, goal):\n",
        "    # Initialize the PQ and visited dictionary\n",
        "    pq = [(0, start)]\n",
        "    visited = {start: 0}\n",
        "    while pq:\n",
        "        # Get the node with the lowest cost from the PQ\n",
        "        (cost, current) = heapq.heappop(pq)\n",
        "        # If we reach the goal, return the path and its cost\n",
        "        if current == goal:\n",
        "            path = []\n",
        "            while current in visited:\n",
        "                path.insert(0, current)\n",
        "                current = visited[current][1]\n",
        "            return (path, visited[goal])\n",
        "        # Explore the neighbors of the current node\n",
        "        for (neighbor, neighbor_cost) in tree[current]:\n",
        "            neighbor_cost += cost\n",
        "            if neighbor not in visited or neighbor_cost < visited[neighbor]:\n",
        "                visited[neighbor] = (neighbor_cost, current)\n",
        "                heapq.heappush(pq, (neighbor_cost, neighbor))\n",
        "    # If we reach here, there is no path between the start and goal\n",
        "    return None\n",
        "\n",
        "# Test the implementation\n",
        "path, cost = uniform_cost('C', 'B')\n",
        "print('The path from C to B is:', path)\n",
        "print('The cost of the path is:', cost)\n"
      ],
      "metadata": {
        "colab": {
          "base_uri": "https://localhost:8080/",
          "height": 372
        },
        "id": "PpHdJSLfTaNg",
        "outputId": "3052d77e-4d2d-47a3-816f-9ba16ac7b151"
      },
      "execution_count": null,
      "outputs": [
        {
          "output_type": "error",
          "ename": "TypeError",
          "evalue": "ignored",
          "traceback": [
            "\u001b[0;31m---------------------------------------------------------------------------\u001b[0m",
            "\u001b[0;31mTypeError\u001b[0m                                 Traceback (most recent call last)",
            "\u001b[0;32m<ipython-input-13-3635b12998e3>\u001b[0m in \u001b[0;36m<cell line: 38>\u001b[0;34m()\u001b[0m\n\u001b[1;32m     36\u001b[0m \u001b[0;34m\u001b[0m\u001b[0m\n\u001b[1;32m     37\u001b[0m \u001b[0;31m# Test the implementation\u001b[0m\u001b[0;34m\u001b[0m\u001b[0;34m\u001b[0m\u001b[0m\n\u001b[0;32m---> 38\u001b[0;31m \u001b[0mpath\u001b[0m\u001b[0;34m,\u001b[0m \u001b[0mcost\u001b[0m \u001b[0;34m=\u001b[0m \u001b[0muniform_cost\u001b[0m\u001b[0;34m(\u001b[0m\u001b[0;34m'C'\u001b[0m\u001b[0;34m,\u001b[0m \u001b[0;34m'B'\u001b[0m\u001b[0;34m)\u001b[0m\u001b[0;34m\u001b[0m\u001b[0;34m\u001b[0m\u001b[0m\n\u001b[0m\u001b[1;32m     39\u001b[0m \u001b[0mprint\u001b[0m\u001b[0;34m(\u001b[0m\u001b[0;34m'The path from C to B is:'\u001b[0m\u001b[0;34m,\u001b[0m \u001b[0mpath\u001b[0m\u001b[0;34m)\u001b[0m\u001b[0;34m\u001b[0m\u001b[0;34m\u001b[0m\u001b[0m\n\u001b[1;32m     40\u001b[0m \u001b[0mprint\u001b[0m\u001b[0;34m(\u001b[0m\u001b[0;34m'The cost of the path is:'\u001b[0m\u001b[0;34m,\u001b[0m \u001b[0mcost\u001b[0m\u001b[0;34m)\u001b[0m\u001b[0;34m\u001b[0m\u001b[0;34m\u001b[0m\u001b[0m\n",
            "\u001b[0;32m<ipython-input-13-3635b12998e3>\u001b[0m in \u001b[0;36muniform_cost\u001b[0;34m(start, goal)\u001b[0m\n\u001b[1;32m     24\u001b[0m             \u001b[0;32mwhile\u001b[0m \u001b[0mcurrent\u001b[0m \u001b[0;32min\u001b[0m \u001b[0mvisited\u001b[0m\u001b[0;34m:\u001b[0m\u001b[0;34m\u001b[0m\u001b[0;34m\u001b[0m\u001b[0m\n\u001b[1;32m     25\u001b[0m                 \u001b[0mpath\u001b[0m\u001b[0;34m.\u001b[0m\u001b[0minsert\u001b[0m\u001b[0;34m(\u001b[0m\u001b[0;36m0\u001b[0m\u001b[0;34m,\u001b[0m \u001b[0mcurrent\u001b[0m\u001b[0;34m)\u001b[0m\u001b[0;34m\u001b[0m\u001b[0;34m\u001b[0m\u001b[0m\n\u001b[0;32m---> 26\u001b[0;31m                 \u001b[0mcurrent\u001b[0m \u001b[0;34m=\u001b[0m \u001b[0mvisited\u001b[0m\u001b[0;34m[\u001b[0m\u001b[0mcurrent\u001b[0m\u001b[0;34m]\u001b[0m\u001b[0;34m[\u001b[0m\u001b[0;36m1\u001b[0m\u001b[0;34m]\u001b[0m\u001b[0;34m\u001b[0m\u001b[0;34m\u001b[0m\u001b[0m\n\u001b[0m\u001b[1;32m     27\u001b[0m             \u001b[0;32mreturn\u001b[0m \u001b[0;34m(\u001b[0m\u001b[0mpath\u001b[0m\u001b[0;34m,\u001b[0m \u001b[0mvisited\u001b[0m\u001b[0;34m[\u001b[0m\u001b[0mgoal\u001b[0m\u001b[0;34m]\u001b[0m\u001b[0;34m)\u001b[0m\u001b[0;34m\u001b[0m\u001b[0;34m\u001b[0m\u001b[0m\n\u001b[1;32m     28\u001b[0m         \u001b[0;31m# Explore the neighbors of the current node\u001b[0m\u001b[0;34m\u001b[0m\u001b[0;34m\u001b[0m\u001b[0m\n",
            "\u001b[0;31mTypeError\u001b[0m: 'int' object is not subscriptable"
          ]
        }
      ]
    }
  ]
}